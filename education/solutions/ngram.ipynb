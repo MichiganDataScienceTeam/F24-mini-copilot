{
 "cells": [
  {
   "cell_type": "markdown",
   "metadata": {},
   "source": [
    "# Code Autocompletion with n-grams"
   ]
  },
  {
   "cell_type": "markdown",
   "metadata": {},
   "source": [
    "We frame the code autocompletion task as follows: given a sequence of $n$ tokens (which you can consider $n$ words of code), predict the $n+1$th token. With this interpretation of the problem in mind, we can use a simple n-gram based maximum likelihood predictor as a rough heuristic for code autocompletion. There are many issues with this approach, but it helps build the intuition of *next token prediction.* Next token prediction is the underlying concept behind Large Language Models, and is one approach that we will be using to solve the code autocompletion problem."
   ]
  },
  {
   "cell_type": "markdown",
   "metadata": {},
   "source": [
    "---"
   ]
  },
  {
   "cell_type": "code",
   "execution_count": 1,
   "metadata": {},
   "outputs": [
    {
     "name": "stderr",
     "output_type": "stream",
     "text": [
      "c:\\Users\\amira\\OneDrive\\Documents\\GitHub\\Projects\\mini-copilot\\venv\\Lib\\site-packages\\tqdm\\auto.py:21: TqdmWarning: IProgress not found. Please update jupyter and ipywidgets. See https://ipywidgets.readthedocs.io/en/stable/user_install.html\n",
      "  from .autonotebook import tqdm as notebook_tqdm\n"
     ]
    }
   ],
   "source": [
    "from collections import defaultdict\n",
    "import matplotlib.pyplot as plt\n",
    "import matplotlib.cm as cm\n",
    "import numpy as np\n",
    "import regex as re\n",
    "from datasets import load_dataset, Dataset"
   ]
  },
  {
   "cell_type": "markdown",
   "metadata": {},
   "source": [
    "First, we can start by pulling our dataset."
   ]
  },
  {
   "cell_type": "code",
   "execution_count": 2,
   "metadata": {},
   "outputs": [
    {
     "data": {
      "text/plain": [
       "{'code': 'from django import forms\\nfrom django.core.exceptions import ValidationError\\nfrom django.core.validators import validate_slug\\nfrom django.db import models\\nfrom django.utils import simplejson as json\\nfrom django.utils.text import capfirst\\nfrom django.utils.translation import ugettext_lazy as _\\n\\nfrom philo.forms.fields import JSONFormField\\nfrom philo.utils.registry import RegistryIterator\\nfrom philo.validators import TemplateValidator, json_validator\\n#from philo.models.fields.entities import *\\n\\n\\nclass TemplateField(models.TextField):\\n\\t\"\"\"A :class:`TextField` which is validated with a :class:`.TemplateValidator`. ``allow``, ``disallow``, and ``secure`` will be passed into the validator\\'s construction.\"\"\"\\n\\tdef __init__(self, allow=None, disallow=None, secure=True, *args, **kwargs):\\n\\t\\tsuper(TemplateField, self).__init__(*args, **kwargs)\\n\\t\\tself.validators.append(TemplateValidator(allow, disallow, secure))\\n\\n\\nclass JSONDescriptor(object):\\n\\tdef __init__(self, field):\\n\\t\\tself.field = field\\n\\t\\n\\tdef __get__(self, instance, owner):\\n\\t\\tif instance is None:\\n\\t\\t\\traise AttributeError # ?\\n\\t\\t\\n\\t\\tif self.field.name not in instance.__dict__:\\n\\t\\t\\tjson_string = getattr(instance, self.field.attname)\\n\\t\\t\\tinstance.__dict__[self.field.name] = json.loads(json_string)\\n\\t\\t\\n\\t\\treturn instance.__dict__[self.field.name]\\n\\t\\n\\tdef __set__(self, instance, value):\\n\\t\\tinstance.__dict__[self.field.name] = value\\n\\t\\tsetattr(instance, self.field.attname, json.dumps(value))\\n\\t\\n\\tdef __delete__(self, instance):\\n\\t\\tdel(instance.__dict__[self.field.name])\\n\\t\\tsetattr(instance, self.field.attname, json.dumps(None))\\n\\n\\nclass JSONField(models.TextField):\\n\\t\"\"\"A :class:`TextField` which stores its value on the model instance as a python object and stores its value in the database as JSON. Validated with :func:`.json_validator`.\"\"\"\\n\\tdefault_validators = [json_validator]\\n\\t\\n\\tdef get_attname(self):\\n\\t\\treturn \"%s_json\" % self.name\\n\\t\\n\\tdef contribute_to_class(self, cls, name):\\n\\t\\tsuper(JSONField, self).contribute_to_class(cls, name)\\n\\t\\tsetattr(cls, name, JSONDescriptor(self))\\n\\t\\tmodels.signals.pre_init.connect(self.fix_init_kwarg, sender=cls)\\n\\t\\n\\tdef fix_init_kwarg(self, sender, args, kwargs, **signal_kwargs):\\n\\t\\t# Anything passed in as self.name is assumed to come from a serializer and\\n\\t\\t# will be treated as a json string.\\n\\t\\tif self.name in kwargs:\\n\\t\\t\\tvalue = kwargs.pop(self.name)\\n\\t\\t\\t\\n\\t\\t\\t# Hack to handle the xml serializer\\'s handling of \"null\"\\n\\t\\t\\tif value is None:\\n\\t\\t\\t\\tvalue = \\'null\\'\\n\\t\\t\\t\\n\\t\\t\\tkwargs[self.attname] = value\\n\\t\\n\\tdef formfield(self, *args, **kwargs):\\n\\t\\tkwargs[\"form_class\"] = JSONFormField\\n\\t\\treturn super(JSONField, self).formfield(*args, **kwargs)\\n\\n\\nclass SlugMultipleChoiceField(models.Field):\\n\\t\"\"\"Stores a selection of multiple items with unique slugs in the form of a comma-separated list. Also knows how to correctly handle :class:`RegistryIterator`\\\\ s passed in as choices.\"\"\"\\n\\t__metaclass__ = models.SubfieldBase\\n\\tdescription = _(\"Comma-separated slug field\")\\n\\t\\n\\tdef get_internal_type(self):\\n\\t\\treturn \"TextField\"\\n\\t\\n\\tdef to_python(self, value):\\n\\t\\tif not value:\\n\\t\\t\\treturn []\\n\\t\\t\\n\\t\\tif isinstance(value, list):\\n\\t\\t\\treturn value\\n\\t\\t\\n\\t\\treturn value.split(\\',\\')\\n\\t\\n\\tdef get_prep_value(self, value):\\n\\t\\treturn \\',\\'.join(value)\\n\\t\\n\\tdef formfield(self, **kwargs):\\n\\t\\t# This is necessary because django hard-codes TypedChoiceField for things with choices.\\n\\t\\tdefaults = {\\n\\t\\t\\t\\'widget\\': forms.CheckboxSelectMultiple,\\n\\t\\t\\t\\'choices\\': self.get_choices(include_blank=False),\\n\\t\\t\\t\\'label\\': capfirst(self.verbose_name),\\n\\t\\t\\t\\'required\\': not self.blank,\\n\\t\\t\\t\\'help_text\\': self.help_text\\n\\t\\t}\\n\\t\\tif self.has_default():\\n\\t\\t\\tif callable(self.default):\\n\\t\\t\\t\\tdefaults[\\'initial\\'] = self.default\\n\\t\\t\\t\\tdefaults[\\'show_hidden_initial\\'] = True\\n\\t\\t\\telse:\\n\\t\\t\\t\\tdefaults[\\'initial\\'] = self.get_default()\\n\\t\\t\\n\\t\\tfor k in kwargs.keys():\\n\\t\\t\\tif k not in (\\'coerce\\', \\'empty_value\\', \\'choices\\', \\'required\\',\\n\\t\\t\\t\\t\\t\\t \\'widget\\', \\'label\\', \\'initial\\', \\'help_text\\',\\n\\t\\t\\t\\t\\t\\t \\'error_messages\\', \\'show_hidden_initial\\'):\\n\\t\\t\\t\\tdel kwargs[k]\\n\\t\\t\\n\\t\\tdefaults.update(kwargs)\\n\\t\\tform_class = forms.TypedMultipleChoiceField\\n\\t\\treturn form_class(**defaults)\\n\\t\\n\\tdef validate(self, value, model_instance):\\n\\t\\tinvalid_values = []\\n\\t\\tfor val in value:\\n\\t\\t\\ttry:\\n\\t\\t\\t\\tvalidate_slug(val)\\n\\t\\t\\texcept ValidationError:\\n\\t\\t\\t\\tinvalid_values.append(val)\\n\\t\\t\\n\\t\\tif invalid_values:\\n\\t\\t\\t# should really make a custom message.\\n\\t\\t\\traise ValidationError(self.error_messages[\\'invalid_choice\\'] % invalid_values)\\n\\t\\n\\tdef _get_choices(self):\\n\\t\\tif isinstance(self._choices, RegistryIterator):\\n\\t\\t\\treturn self._choices.copy()\\n\\t\\telif hasattr(self._choices, \\'next\\'):\\n\\t\\t\\tchoices, self._choices = itertools.tee(self._choices)\\n\\t\\t\\treturn choices\\n\\t\\telse:\\n\\t\\t\\treturn self._choices\\n\\tchoices = property(_get_choices)\\n\\n\\ntry:\\n\\tfrom south.modelsinspector import add_introspection_rules\\nexcept ImportError:\\n\\tpass\\nelse:\\n\\tadd_introspection_rules([], [\"^philo\\\\.models\\\\.fields\\\\.SlugMultipleChoiceField\"])\\n\\tadd_introspection_rules([], [\"^philo\\\\.models\\\\.fields\\\\.TemplateField\"])\\n\\tadd_introspection_rules([], [\"^philo\\\\.models\\\\.fields\\\\.JSONField\"])',\n",
       " 'repo_name': 'ithinksw/philo',\n",
       " 'path': 'philo/models/fields/__init__.py',\n",
       " 'language': 'Python',\n",
       " 'license': 'isc',\n",
       " 'size': 4971}"
      ]
     },
     "execution_count": 2,
     "metadata": {},
     "output_type": "execute_result"
    }
   ],
   "source": [
    "def get_data(n: int) -> Dataset:\n",
    "    \"\"\"Pull n samples of the codeparrot dataset onto memory, after filtering for Python code.\"\"\"\n",
    "    # https://huggingface.co/datasets/codeparrot/github-code\n",
    "    # Load the dataset\n",
    "    ds = load_dataset(\"codeparrot/github-code\", streaming=True, split=\"train\")\n",
    "    ds = ds.filter(lambda x: x[\"language\"] == \"Python\")\n",
    "\n",
    "    ds = ds.take(n)\n",
    "\n",
    "    return ds\n",
    "\n",
    "dataset = get_data(1_000)\n",
    "\n",
    "next(iter(dataset))"
   ]
  },
  {
   "cell_type": "markdown",
   "metadata": {},
   "source": [
    "Now, we need to tokenize our dataset, as the individual \"grams\" in our n-gram model is built upon tokens. If you are unfamiliar with tokenization, [this](https://medium.com/@abdallahashraf90x/tokenization-in-nlp-all-you-need-to-know-45c00cfa2df7) is a quick read and [this is](https://youtu.be/zduSFxRajkE?si=4TAlVacyZTNUmLn9) a long but incredibly comprehensive watch that you will not regret (Andrej Karpathy is the goat). If you are familiar with tokenization, you likely do not appreciate it enough.\n",
    "\n",
    "There is a lot to consider when tokenizing a code dataset. For instance, we cannot just naively split based on whitespace - newlines and punctuation are quite important in code."
   ]
  },
  {
   "cell_type": "code",
   "execution_count": 3,
   "metadata": {},
   "outputs": [],
   "source": [
    "all_tokens = []\n",
    "\n",
    "for example in dataset:\n",
    "    code = example[\"code\"]\n",
    "    lines = re.split(r\"(\\n+)\", code)\n",
    "    for line in lines:\n",
    "        tokens = re.split(r\"(\\p{P}|\\s+)\", line)\n",
    "        for token in tokens:\n",
    "            if token not in [\"\", \" \"]:\n",
    "                all_tokens.append(token)"
   ]
  },
  {
   "cell_type": "code",
   "execution_count": null,
   "metadata": {},
   "outputs": [],
   "source": [
    "for token in all_tokens[410:450]:\n",
    "    print(token)"
   ]
  },
  {
   "cell_type": "markdown",
   "metadata": {},
   "source": [
    "Now, we can build out our n-grams. In this notebook, we will use 3-grams, and only 3-grams. A better approach would be to leverage a mixture of uni, bi, tri, ..., n grams."
   ]
  },
  {
   "cell_type": "code",
   "execution_count": 4,
   "metadata": {},
   "outputs": [],
   "source": [
    "def get_ngrams(n: int, tokens: list) -> defaultdict:\n",
    "    \"\"\"Given a list of tokens, return a dictionary of all the n-grams from the tokens.\"\"\"\n",
    "    ngrams = []\n",
    "\n",
    "    for i in range(len(tokens) - n + 1):\n",
    "        ngrams.append(tokens[i:i+n])\n",
    "\n",
    "    return ngrams\n",
    "\n",
    "three_grams = get_ngrams(3, all_tokens)"
   ]
  },
  {
   "cell_type": "markdown",
   "metadata": {},
   "source": [
    "Based on all of the 3-grams we have derived, we can build a simple count based model we can use to predict the next token given the past 2 tokens."
   ]
  },
  {
   "cell_type": "code",
   "execution_count": 5,
   "metadata": {},
   "outputs": [],
   "source": [
    "model_3gram = defaultdict(lambda: defaultdict(int))\n",
    "\n",
    "for three_gram in three_grams:\n",
    "    if len(three_gram) == 3:\n",
    "        model_3gram[(three_gram[0], three_gram[1])][three_gram[2]] += 1"
   ]
  },
  {
   "cell_type": "code",
   "execution_count": 19,
   "metadata": {},
   "outputs": [
    {
     "data": {
      "text/plain": [
       "defaultdict(int, {'(': 64, '_': 1})"
      ]
     },
     "execution_count": 19,
     "metadata": {},
     "output_type": "execute_result"
    }
   ],
   "source": [
    "model_3gram[(\"def\", \"main\")]"
   ]
  },
  {
   "cell_type": "code",
   "execution_count": 7,
   "metadata": {},
   "outputs": [],
   "source": [
    "def plot_model(model: dict, w1: str, w2: str, top_n=10):\n",
    "    \"\"\"Plot the top_n words that follow the bigram (w1, w2) in the model.\"\"\"\n",
    "    words = [w for w, _ in sorted(model[(w1, w2)].items(), key=lambda x: x[1], reverse=True)[:top_n]]\n",
    "    counts = [c for _, c in sorted(model[(w1, w2)].items(), key=lambda x: x[1], reverse=True)[:top_n]]\n",
    "    colors = cm.rainbow(np.linspace(0, 1, len(words)))\n",
    "    plt.bar(words, counts, color=colors)\n",
    "    plt.xticks(rotation=45)\n",
    "    plt.show()"
   ]
  },
  {
   "cell_type": "code",
   "execution_count": 13,
   "metadata": {},
   "outputs": [
    {
     "data": {
      "image/png": "[encoded data removed]",
      "text/plain": [
       "<Figure size 640x480 with 1 Axes>"
      ]
     },
     "metadata": {},
     "output_type": "display_data"
    }
   ],
   "source": [
    "plot_model(model_3gram, \"def\", \"add\")"
   ]
  },
  {
   "cell_type": "code",
   "execution_count": 14,
   "metadata": {},
   "outputs": [
    {
     "data": {
      "image/png": "[encoded data removed]",
      "text/plain": [
       "<Figure size 640x480 with 1 Axes>"
      ]
     },
     "metadata": {},
     "output_type": "display_data"
    }
   ],
   "source": [
    "plot_model(model_3gram, \"import\", \"numpy\")"
   ]
  },
  {
   "cell_type": "code",
   "execution_count": 15,
   "metadata": {},
   "outputs": [
    {
     "data": {
      "image/png": "[encoded data removed]",
      "text/plain": [
       "<Figure size 640x480 with 1 Axes>"
      ]
     },
     "metadata": {},
     "output_type": "display_data"
    }
   ],
   "source": [
    "plot_model(model_3gram, \"from\", \"django\")"
   ]
  },
  {
   "cell_type": "markdown",
   "metadata": {},
   "source": [
    "We can write a simple function that uses the most probable next token to generate a completion based on a provided input."
   ]
  },
  {
   "cell_type": "code",
   "execution_count": 9,
   "metadata": {},
   "outputs": [
    {
     "data": {
      "text/plain": [
       "['(', ')', '\\n', '        ', '\"', 'http', ':', '/', '/', 'thecolbertreport']"
      ]
     },
     "execution_count": 9,
     "metadata": {},
     "output_type": "execute_result"
    }
   ],
   "source": [
    "def generate(model: dict, w1: str, w2: str, n: int = 10) -> list:\n",
    "    \"\"\"Generate the next n token from the model, given the initial bigram (w1, w2).\"\"\"\n",
    "    words = []\n",
    "    for i in range(n):\n",
    "        if not model[(w1, w2)]:\n",
    "            break\n",
    "        w3 = max(model[(w1, w2)], key=model[(w1, w2)].get)\n",
    "        words.append(w3)\n",
    "        w1, w2 = w2, w3\n",
    "    return words\n",
    "\n",
    "input_text = \"def main\"\n",
    "input_text = input_text.split()\n",
    "generate(model_3gram, *input_text, n=10)"
   ]
  },
  {
   "cell_type": "code",
   "execution_count": 10,
   "metadata": {},
   "outputs": [
    {
     "data": {
      "text/plain": [
       "['as', 'pd', '\\n', 'import', 'os', '\\n', 'import', 'os', '\\n', 'import']"
      ]
     },
     "execution_count": 10,
     "metadata": {},
     "output_type": "execute_result"
    }
   ],
   "source": [
    "input_text = \"import pandas\"\n",
    "input_text = input_text.split()\n",
    "generate(model_3gram, *input_text, n=10)"
   ]
  }
 ],
 "metadata": {
  "kernelspec": {
   "display_name": "venv",
   "language": "python",
   "name": "python3"
  },
  "language_info": {
   "codemirror_mode": {
    "name": "ipython",
    "version": 3
   },
   "file_extension": ".py",
   "mimetype": "text/x-python",
   "name": "python",
   "nbconvert_exporter": "python",
   "pygments_lexer": "ipython3",
   "version": "3.11.9"
  }
 },
 "nbformat": 4,
 "nbformat_minor": 2
}
